{
 "cells": [
  {
   "cell_type": "code",
   "execution_count": 1,
   "id": "bb06a69d",
   "metadata": {},
   "outputs": [],
   "source": [
    "import pandas as pd \n",
    "import numpy as np\n",
    "import matplotlib.pyplot as plt  \n",
    "import seaborn as sns\n",
    "import dash\n",
    "from dash.dependencies import Input, Output, State\n",
    "from dash import dcc, html, dash_table\n",
    "\n",
    "import pandas as pd\n",
    "import seaborn as sns\n",
    "\n",
    "\n",
    "\n",
    "import dash_bootstrap_components as dbc\n",
    "import matplotlib.pyplot as plt\n",
    "import plotly.express as px\n",
    "from jupyter_dash import JupyterDash"
   ]
  },
  {
   "cell_type": "code",
   "execution_count": 2,
   "id": "fb5bbb6b",
   "metadata": {},
   "outputs": [],
   "source": [
    "import plotly.express as px"
   ]
  },
  {
   "cell_type": "code",
   "execution_count": 3,
   "id": "730e7147",
   "metadata": {},
   "outputs": [],
   "source": [
    "df=pd.read_csv(\"Real estate.csv\",index_col=0)\n",
    "df.head()"
   ]
  },
  {
   "cell_type": "code",
   "execution_count": 5,
   "id": "102f819c",
   "metadata": {},
   "outputs": [],
   "source": [
    "feature=['X2 house age']\n",
    "X=df[feature]\n",
    "target='Y house price of unit area'\n",
    "Y=df[target]"
   ]
  },
  {
   "cell_type": "code",
   "execution_count": 6,
   "id": "bad55d53",
   "metadata": {},
   "outputs": [],
   "source": [
    "from sklearn.impute import SimpleImputer\n",
    "from sklearn.linear_model import LinearRegression, Ridge  # noqa F401\n",
    "from sklearn.metrics import mean_absolute_error\n",
    "from sklearn.pipeline import make_pipeline\n",
    "from sklearn.utils.validation import check_is_fitted\n",
    "from sklearn.model_selection import train_test_split"
   ]
  },
  {
   "cell_type": "code",
   "execution_count": 7,
   "id": "0fefc209",
   "metadata": {
    "scrolled": true
   },
   "outputs": [
    {
     "data": {
      "text/plain": [
       "Index(['X1 transaction date', 'X2 house age',\n",
       "       'X3 distance to the nearest MRT station',\n",
       "       'X4 number of convenience stores', 'X5 latitude', 'X6 longitude',\n",
       "       'Y house price of unit area'],\n",
       "      dtype='object')"
      ]
     },
     "execution_count": 7,
     "metadata": {},
     "output_type": "execute_result"
    }
   ],
   "source": [
    "df.columns"
   ]
  },
  {
   "cell_type": "code",
   "execution_count": 8,
   "id": "47b7fc83",
   "metadata": {},
   "outputs": [],
   "source": [
    "app = dash.Dash(__name__, external_stylesheets=[dbc.themes.BOOTSTRAP])\n",
    "\n",
    "app.layout=html.Div([\n",
    "    \n",
    "    \n",
    "    html.H1(\"Linear-Regression\",style={\"color\": 'red',\"textAlign\": 'center'}),\n",
    "    \n",
    "    html.Br(),\n",
    "    \n",
    "    \n",
    "    dbc.Row([\n",
    "        dbc.Col([\n",
    "            dbc.Label(\"Select Feature variable\",style={'marginLeft' : '20px','textAlign':'center'}),\n",
    "            dcc.Dropdown(id='d1',\n",
    "                         options=[\n",
    "                        {\"label\": col, \"value\": col} for col in df.columns],\n",
    "                        value=df.columns[1],style={'margin' : '10px'})\n",
    "            \n",
    "        ],width=4),\n",
    "        \n",
    "        dbc.Col([\n",
    "            dbc.Label(\"Select Target variable\",style={'marginLeft' : '10px'}),\n",
    "            dcc.Dropdown(id='d2',\n",
    "                         options=[\n",
    "                        {\"label\": col, \"value\": col} for col in df.columns],\n",
    "                        value=df.columns[6],style={'margin' : '10px'})\n",
    "        ],width=4),\n",
    "        \n",
    "        \n",
    "    ]),\n",
    "    \n",
    "    html.Br(),\n",
    "    html.Br(),\n",
    "    html.Br(),\n",
    "    \n",
    "    dbc.Row([\n",
    "        dbc.Col([ html.H3(\"Model Summary\",style={\"color\":'blue','marginLeft': '50px'}),\n",
    "            dbc.Row([html.Div(id='d3',style={\"width\":'66%','margin' : '30px'})]),\n",
    "            \n",
    "        ],width=4),\n",
    "        \n",
    "        \n",
    "        \n",
    "        dbc.Col([\n",
    "            \n",
    "            dcc.Graph(id='figu',style={\"marginLeft\": '40px'})\n",
    "        ],width=8),\n",
    "        \n",
    "    ])\n",
    "    \n",
    "    \n",
    "    \n",
    "    \n",
    "])\n",
    "\n",
    "\n",
    "@app.callback(Output('figu','figure'),\n",
    "             [Input('d1','value'),\n",
    "             Input('d2','value')])\n",
    "def f(a,b):\n",
    "    feature=[a]\n",
    "    X=df[feature]\n",
    "    target=b\n",
    "    Y=df[target]\n",
    "    \n",
    "    X_train, X_test, Y_train, Y_test = train_test_split(X, Y, test_size=0.2, random_state=42)\n",
    "    \n",
    "    model=make_pipeline(LinearRegression())\n",
    "    \n",
    "    model.fit(X_train,Y_train)\n",
    "    \n",
    "    Y_pred=model.predict(X_test)\n",
    "    \n",
    "    global mea\n",
    "    \n",
    "    mea=round(mean_absolute_error(Y_test,Y_pred),3)\n",
    "    \n",
    "    global coef\n",
    "    \n",
    "    coef=model.named_steps['linearregression'].coef_\n",
    "    \n",
    "    global intercept\n",
    "    \n",
    "    intercept=round(model.named_steps['linearregression'].intercept_,2)\n",
    "    \n",
    "    x_range = np.linspace(X.min(), X.max(), 100)\n",
    "    y_range = model.predict(x_range.reshape(-1, 1))\n",
    "    \n",
    "    fig = px.scatter(df, x=a, y=b, opacity=0.65,trendline='ols')\n",
    "    #fig.add_traces(go.Scatter(x=x_range, y=y_range, name='Regression Fit'))\n",
    "    fig.update_layout(\n",
    "    \n",
    "        width =900,\n",
    "        height=500\n",
    "    )\n",
    "    \n",
    "    return fig\n",
    "\n",
    "@app.callback(Output('d3','children'),\n",
    "             [\n",
    "                 Input('d1','value'),\n",
    "                 Input('d2','value')]\n",
    "             )\n",
    "def summary(a,b):\n",
    "    \n",
    "    if len(a)==0 and len(b)==0:\n",
    "        \n",
    "        raise PreventUpdate\n",
    "    else:\n",
    "        \n",
    "    \n",
    "        return (\n",
    "\n",
    "            f\"The value of coefficient is : {coef}.                       Value of intercept is : {intercept}.                                      Mean_Absolute_Error is : {mea} \" \n",
    "        )\n",
    "\n",
    "\n",
    "\n",
    "\n",
    "\n"
   ]
  },
  {
   "cell_type": "code",
   "execution_count": 10,
   "id": "373844a6",
   "metadata": {
    "scrolled": true
   },
   "outputs": [],
   "source": [
    "if __name__=='__main__':\n",
    "    app.run_server(port='8092')"
   ]
  }
 ],
 "metadata": {
  "kernelspec": {
   "display_name": "Python 3 (ipykernel)",
   "language": "python",
   "name": "python3"
  },
  "language_info": {
   "codemirror_mode": {
    "name": "ipython",
    "version": 3
   },
   "file_extension": ".py",
   "mimetype": "text/x-python",
   "name": "python",
   "nbconvert_exporter": "python",
   "pygments_lexer": "ipython3",
   "version": "3.9.12"
  }
 },
 "nbformat": 4,
 "nbformat_minor": 5
}
